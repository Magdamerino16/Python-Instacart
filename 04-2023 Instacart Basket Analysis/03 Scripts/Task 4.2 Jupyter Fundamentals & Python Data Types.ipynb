{
 "cells": [
  {
   "cell_type": "markdown",
   "id": "aa914a7f",
   "metadata": {},
   "source": [
    "# Importing Libraries"
   ]
  },
  {
   "cell_type": "code",
   "execution_count": 1,
   "id": "86d6384c",
   "metadata": {},
   "outputs": [],
   "source": [
    "# Import libraries\n",
    "import pandas as pd\n",
    "import numpy as np\n",
    "import os"
   ]
  },
  {
   "cell_type": "markdown",
   "id": "b443050e",
   "metadata": {},
   "source": [
    "# Data Types"
   ]
  },
  {
   "cell_type": "code",
   "execution_count": 4,
   "id": "a87d4f2e",
   "metadata": {},
   "outputs": [],
   "source": [
    "x = 50"
   ]
  },
  {
   "cell_type": "code",
   "execution_count": null,
   "id": "2147891e",
   "metadata": {},
   "outputs": [],
   "source": [
    "y = 25"
   ]
  },
  {
   "cell_type": "code",
   "execution_count": 7,
   "id": "cb12736f",
   "metadata": {},
   "outputs": [
    {
     "data": {
      "text/plain": [
       "100"
      ]
     },
     "execution_count": 7,
     "metadata": {},
     "output_type": "execute_result"
    }
   ],
   "source": [
    "x + y + y"
   ]
  },
  {
   "cell_type": "code",
   "execution_count": 8,
   "id": "c4e7600f",
   "metadata": {},
   "outputs": [],
   "source": [
    "w = 200"
   ]
  },
  {
   "cell_type": "code",
   "execution_count": 11,
   "id": "9a3650a0",
   "metadata": {},
   "outputs": [
    {
     "data": {
      "text/plain": [
       "100"
      ]
     },
     "execution_count": 11,
     "metadata": {},
     "output_type": "execute_result"
    }
   ],
   "source": [
    "w - (x * 2)"
   ]
  },
  {
   "cell_type": "code",
   "execution_count": 13,
   "id": "c830891d",
   "metadata": {},
   "outputs": [
    {
     "data": {
      "text/plain": [
       "100"
      ]
     },
     "execution_count": 13,
     "metadata": {},
     "output_type": "execute_result"
    }
   ],
   "source": [
    "w - (x + y + y)"
   ]
  },
  {
   "cell_type": "markdown",
   "id": "ae75da73",
   "metadata": {},
   "source": [
    "# Floating point"
   ]
  },
  {
   "cell_type": "code",
   "execution_count": 15,
   "id": "1e332653",
   "metadata": {},
   "outputs": [],
   "source": [
    "a = 5.67"
   ]
  },
  {
   "cell_type": "code",
   "execution_count": 17,
   "id": "a125b604",
   "metadata": {},
   "outputs": [],
   "source": [
    "b = 30.20"
   ]
  },
  {
   "cell_type": "code",
   "execution_count": 18,
   "id": "7cfbd63f",
   "metadata": {},
   "outputs": [
    {
     "data": {
      "text/plain": [
       "0.18774834437086094"
      ]
     },
     "execution_count": 18,
     "metadata": {},
     "output_type": "execute_result"
    }
   ],
   "source": [
    "a / b"
   ]
  },
  {
   "cell_type": "markdown",
   "id": "b6cc7c2c",
   "metadata": {},
   "source": [
    "# Strings"
   ]
  },
  {
   "cell_type": "code",
   "execution_count": 19,
   "id": "7e2d5a3f",
   "metadata": {},
   "outputs": [],
   "source": [
    "a = 'po'"
   ]
  },
  {
   "cell_type": "code",
   "execution_count": 20,
   "id": "e050706b",
   "metadata": {},
   "outputs": [],
   "source": [
    "b = 'ta'"
   ]
  },
  {
   "cell_type": "code",
   "execution_count": 21,
   "id": "b2743eb5",
   "metadata": {},
   "outputs": [],
   "source": [
    "c = 'to'"
   ]
  },
  {
   "cell_type": "code",
   "execution_count": 22,
   "id": "cc4b9ee3",
   "metadata": {},
   "outputs": [
    {
     "data": {
      "text/plain": [
       "'potato'"
      ]
     },
     "execution_count": 22,
     "metadata": {},
     "output_type": "execute_result"
    }
   ],
   "source": [
    "a + b + c"
   ]
  },
  {
   "cell_type": "markdown",
   "id": "84c0d02a",
   "metadata": {},
   "source": [
    " # 2 sentences"
   ]
  },
  {
   "cell_type": "code",
   "execution_count": 31,
   "id": "052040c0",
   "metadata": {},
   "outputs": [],
   "source": [
    "c = 'Good '"
   ]
  },
  {
   "cell_type": "code",
   "execution_count": 32,
   "id": "4f8d4878",
   "metadata": {},
   "outputs": [],
   "source": [
    "d = 'Morning, '"
   ]
  },
  {
   "cell_type": "code",
   "execution_count": 33,
   "id": "3bf43589",
   "metadata": {},
   "outputs": [],
   "source": [
    "e = 'Night, '"
   ]
  },
  {
   "cell_type": "code",
   "execution_count": 26,
   "id": "12ac7fea",
   "metadata": {},
   "outputs": [],
   "source": [
    "f = 'everybody'"
   ]
  },
  {
   "cell_type": "code",
   "execution_count": 34,
   "id": "c8df08df",
   "metadata": {},
   "outputs": [
    {
     "data": {
      "text/plain": [
       "'Good Morning, everybody'"
      ]
     },
     "execution_count": 34,
     "metadata": {},
     "output_type": "execute_result"
    }
   ],
   "source": [
    "c + d + f"
   ]
  },
  {
   "cell_type": "code",
   "execution_count": 35,
   "id": "4f71bd2c",
   "metadata": {},
   "outputs": [
    {
     "data": {
      "text/plain": [
       "'Good Night, everybody'"
      ]
     },
     "execution_count": 35,
     "metadata": {},
     "output_type": "execute_result"
    }
   ],
   "source": [
    "c + e + f"
   ]
  },
  {
   "cell_type": "markdown",
   "id": "a4678812",
   "metadata": {},
   "source": [
    "# BONUS"
   ]
  },
  {
   "cell_type": "code",
   "execution_count": 36,
   "id": "a0f17b12",
   "metadata": {},
   "outputs": [
    {
     "data": {
      "text/plain": [
       "'Good Morning, Good Morning, Good Morning, Good Morning, Good Morning, Good Morning, Good Morning, Good Morning, Good Morning, Good Morning, Good Morning, Good Morning, Good Morning, Good Morning, Good Morning, Good Morning, Good Morning, Good Morning, Good Morning, Good Morning, Good Morning, Good Morning, Good Morning, Good Morning, Good Morning, Good Morning, Good Morning, Good Morning, Good Morning, Good Morning, Good Morning, Good Morning, Good Morning, Good Morning, Good Morning, Good Morning, Good Morning, Good Morning, Good Morning, Good Morning, Good Morning, Good Morning, Good Morning, Good Morning, Good Morning, Good Morning, Good Morning, Good Morning, Good Morning, Good Morning, Good Morning, Good Morning, Good Morning, Good Morning, Good Morning, Good Morning, Good Morning, Good Morning, Good Morning, Good Morning, Good Morning, Good Morning, Good Morning, Good Morning, Good Morning, Good Morning, Good Morning, Good Morning, Good Morning, Good Morning, Good Morning, Good Morning, Good Morning, Good Morning, Good Morning, Good Morning, Good Morning, Good Morning, Good Morning, Good Morning, Good Morning, Good Morning, Good Morning, Good Morning, Good Morning, Good Morning, Good Morning, Good Morning, Good Morning, Good Morning, Good Morning, Good Morning, Good Morning, Good Morning, Good Morning, Good Morning, Good Morning, Good Morning, Good Morning, Good Morning, '"
      ]
     },
     "execution_count": 36,
     "metadata": {},
     "output_type": "execute_result"
    }
   ],
   "source": [
    " (c + d) * 100"
   ]
  },
  {
   "cell_type": "code",
   "execution_count": null,
   "id": "67df8911",
   "metadata": {},
   "outputs": [],
   "source": []
  }
 ],
 "metadata": {
  "kernelspec": {
   "display_name": "Python 3 (ipykernel)",
   "language": "python",
   "name": "python3"
  },
  "language_info": {
   "codemirror_mode": {
    "name": "ipython",
    "version": 3
   },
   "file_extension": ".py",
   "mimetype": "text/x-python",
   "name": "python",
   "nbconvert_exporter": "python",
   "pygments_lexer": "ipython3",
   "version": "3.10.9"
  }
 },
 "nbformat": 4,
 "nbformat_minor": 5
}

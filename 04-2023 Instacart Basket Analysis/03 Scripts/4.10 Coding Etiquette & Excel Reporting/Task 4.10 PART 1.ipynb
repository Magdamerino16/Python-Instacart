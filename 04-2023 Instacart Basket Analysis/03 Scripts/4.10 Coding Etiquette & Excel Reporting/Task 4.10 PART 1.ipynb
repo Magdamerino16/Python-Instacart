{
 "cells": [
  {
   "cell_type": "markdown",
   "id": "d9d72d40",
   "metadata": {},
   "source": [
    "#  1. Importing Libraries & Data Set "
   ]
  },
  {
   "cell_type": "code",
   "execution_count": 1,
   "id": "846db28b",
   "metadata": {},
   "outputs": [],
   "source": [
    "#import libraries\n",
    "import pandas as pd\n",
    "import numpy as np\n",
    "import os\n",
    "import matplotlib.pyplot as plt\n",
    "import seaborn as sns\n",
    "import scipy"
   ]
  },
  {
   "cell_type": "code",
   "execution_count": 2,
   "id": "b3b4a0f5",
   "metadata": {},
   "outputs": [],
   "source": [
    "#Folder path\n",
    "path = r'C:\\Users\\Lucero\\Documents\\Instacart Basket Analysis\\02 Data'"
   ]
  },
  {
   "cell_type": "code",
   "execution_count": 3,
   "id": "41f33eba",
   "metadata": {
    "scrolled": true
   },
   "outputs": [],
   "source": [
    "# importing pickle file with most recent data\n",
    "df_main  = pd.read_pickle(os.path.join(path, 'Prepared Data', 'df_ords_prods_custmrs.pkl'))\n"
   ]
  },
  {
   "cell_type": "code",
   "execution_count": 4,
   "id": "a4d016ed",
   "metadata": {},
   "outputs": [],
   "source": [
    "# importing department dictionary data\n",
    "df_dict = pd.read_csv(os.path.join(path, 'Prepared Data', 'departments_wrangled.csv'), index_col = 0)"
   ]
  },
  {
   "cell_type": "markdown",
   "id": "197ff404",
   "metadata": {},
   "source": [
    "# 2. Security Implications"
   ]
  },
  {
   "cell_type": "code",
   "execution_count": 5,
   "id": "5c32d0e3",
   "metadata": {},
   "outputs": [
    {
     "data": {
      "text/html": [
       "<div>\n",
       "<style scoped>\n",
       "    .dataframe tbody tr th:only-of-type {\n",
       "        vertical-align: middle;\n",
       "    }\n",
       "\n",
       "    .dataframe tbody tr th {\n",
       "        vertical-align: top;\n",
       "    }\n",
       "\n",
       "    .dataframe thead th {\n",
       "        text-align: right;\n",
       "    }\n",
       "</style>\n",
       "<table border=\"1\" class=\"dataframe\">\n",
       "  <thead>\n",
       "    <tr style=\"text-align: right;\">\n",
       "      <th></th>\n",
       "      <th>Unnamed: 0</th>\n",
       "      <th>order_id</th>\n",
       "      <th>user_id</th>\n",
       "      <th>eval_set</th>\n",
       "      <th>order_number</th>\n",
       "      <th>orders_day_of_week</th>\n",
       "      <th>order_hour_of_day</th>\n",
       "      <th>days_since_prior_order</th>\n",
       "      <th>product_id</th>\n",
       "      <th>add_to_cart_order</th>\n",
       "      <th>...</th>\n",
       "      <th>order_freq_flag</th>\n",
       "      <th>first_name</th>\n",
       "      <th>last_name</th>\n",
       "      <th>gender</th>\n",
       "      <th>state</th>\n",
       "      <th>age</th>\n",
       "      <th>registration_date</th>\n",
       "      <th>number_dependants</th>\n",
       "      <th>marital_status</th>\n",
       "      <th>income</th>\n",
       "    </tr>\n",
       "  </thead>\n",
       "  <tbody>\n",
       "    <tr>\n",
       "      <th>0</th>\n",
       "      <td>0</td>\n",
       "      <td>2539329</td>\n",
       "      <td>1</td>\n",
       "      <td>prior</td>\n",
       "      <td>1</td>\n",
       "      <td>2</td>\n",
       "      <td>8</td>\n",
       "      <td>NaN</td>\n",
       "      <td>196</td>\n",
       "      <td>1</td>\n",
       "      <td>...</td>\n",
       "      <td>Non-frequent customer</td>\n",
       "      <td>Linda</td>\n",
       "      <td>Nguyen</td>\n",
       "      <td>Female</td>\n",
       "      <td>Alabama</td>\n",
       "      <td>31</td>\n",
       "      <td>2/17/2019</td>\n",
       "      <td>3</td>\n",
       "      <td>married</td>\n",
       "      <td>40423</td>\n",
       "    </tr>\n",
       "    <tr>\n",
       "      <th>1</th>\n",
       "      <td>1</td>\n",
       "      <td>2398795</td>\n",
       "      <td>1</td>\n",
       "      <td>prior</td>\n",
       "      <td>2</td>\n",
       "      <td>3</td>\n",
       "      <td>7</td>\n",
       "      <td>15.0</td>\n",
       "      <td>196</td>\n",
       "      <td>1</td>\n",
       "      <td>...</td>\n",
       "      <td>Non-frequent customer</td>\n",
       "      <td>Linda</td>\n",
       "      <td>Nguyen</td>\n",
       "      <td>Female</td>\n",
       "      <td>Alabama</td>\n",
       "      <td>31</td>\n",
       "      <td>2/17/2019</td>\n",
       "      <td>3</td>\n",
       "      <td>married</td>\n",
       "      <td>40423</td>\n",
       "    </tr>\n",
       "    <tr>\n",
       "      <th>2</th>\n",
       "      <td>2</td>\n",
       "      <td>473747</td>\n",
       "      <td>1</td>\n",
       "      <td>prior</td>\n",
       "      <td>3</td>\n",
       "      <td>3</td>\n",
       "      <td>12</td>\n",
       "      <td>21.0</td>\n",
       "      <td>196</td>\n",
       "      <td>1</td>\n",
       "      <td>...</td>\n",
       "      <td>Non-frequent customer</td>\n",
       "      <td>Linda</td>\n",
       "      <td>Nguyen</td>\n",
       "      <td>Female</td>\n",
       "      <td>Alabama</td>\n",
       "      <td>31</td>\n",
       "      <td>2/17/2019</td>\n",
       "      <td>3</td>\n",
       "      <td>married</td>\n",
       "      <td>40423</td>\n",
       "    </tr>\n",
       "    <tr>\n",
       "      <th>3</th>\n",
       "      <td>3</td>\n",
       "      <td>2254736</td>\n",
       "      <td>1</td>\n",
       "      <td>prior</td>\n",
       "      <td>4</td>\n",
       "      <td>4</td>\n",
       "      <td>7</td>\n",
       "      <td>29.0</td>\n",
       "      <td>196</td>\n",
       "      <td>1</td>\n",
       "      <td>...</td>\n",
       "      <td>Non-frequent customer</td>\n",
       "      <td>Linda</td>\n",
       "      <td>Nguyen</td>\n",
       "      <td>Female</td>\n",
       "      <td>Alabama</td>\n",
       "      <td>31</td>\n",
       "      <td>2/17/2019</td>\n",
       "      <td>3</td>\n",
       "      <td>married</td>\n",
       "      <td>40423</td>\n",
       "    </tr>\n",
       "    <tr>\n",
       "      <th>4</th>\n",
       "      <td>4</td>\n",
       "      <td>431534</td>\n",
       "      <td>1</td>\n",
       "      <td>prior</td>\n",
       "      <td>5</td>\n",
       "      <td>4</td>\n",
       "      <td>15</td>\n",
       "      <td>28.0</td>\n",
       "      <td>196</td>\n",
       "      <td>1</td>\n",
       "      <td>...</td>\n",
       "      <td>Non-frequent customer</td>\n",
       "      <td>Linda</td>\n",
       "      <td>Nguyen</td>\n",
       "      <td>Female</td>\n",
       "      <td>Alabama</td>\n",
       "      <td>31</td>\n",
       "      <td>2/17/2019</td>\n",
       "      <td>3</td>\n",
       "      <td>married</td>\n",
       "      <td>40423</td>\n",
       "    </tr>\n",
       "  </tbody>\n",
       "</table>\n",
       "<p>5 rows × 35 columns</p>\n",
       "</div>"
      ],
      "text/plain": [
       "   Unnamed: 0  order_id  user_id eval_set  order_number  orders_day_of_week  \\\n",
       "0           0   2539329        1    prior             1                   2   \n",
       "1           1   2398795        1    prior             2                   3   \n",
       "2           2    473747        1    prior             3                   3   \n",
       "3           3   2254736        1    prior             4                   4   \n",
       "4           4    431534        1    prior             5                   4   \n",
       "\n",
       "   order_hour_of_day  days_since_prior_order  product_id  add_to_cart_order  \\\n",
       "0                  8                     NaN         196                  1   \n",
       "1                  7                    15.0         196                  1   \n",
       "2                 12                    21.0         196                  1   \n",
       "3                  7                    29.0         196                  1   \n",
       "4                 15                    28.0         196                  1   \n",
       "\n",
       "   ...        order_freq_flag first_name  last_name  gender    state age  \\\n",
       "0  ...  Non-frequent customer      Linda     Nguyen  Female  Alabama  31   \n",
       "1  ...  Non-frequent customer      Linda     Nguyen  Female  Alabama  31   \n",
       "2  ...  Non-frequent customer      Linda     Nguyen  Female  Alabama  31   \n",
       "3  ...  Non-frequent customer      Linda     Nguyen  Female  Alabama  31   \n",
       "4  ...  Non-frequent customer      Linda     Nguyen  Female  Alabama  31   \n",
       "\n",
       "  registration_date number_dependants marital_status income  \n",
       "0         2/17/2019                 3        married  40423  \n",
       "1         2/17/2019                 3        married  40423  \n",
       "2         2/17/2019                 3        married  40423  \n",
       "3         2/17/2019                 3        married  40423  \n",
       "4         2/17/2019                 3        married  40423  \n",
       "\n",
       "[5 rows x 35 columns]"
      ]
     },
     "execution_count": 5,
     "metadata": {},
     "output_type": "execute_result"
    }
   ],
   "source": [
    "# checking the given information\n",
    "df_main.head()"
   ]
  },
  {
   "cell_type": "markdown",
   "id": "39e13cc2",
   "metadata": {},
   "source": [
    "# 3. Spending Habits by Region"
   ]
  },
  {
   "cell_type": "markdown",
   "id": "f2e32802",
   "metadata": {},
   "source": [
    "3.1 Region Column"
   ]
  },
  {
   "cell_type": "code",
   "execution_count": 6,
   "id": "69678d31",
   "metadata": {},
   "outputs": [],
   "source": [
    "# region 1: ME, NH, VT, MA, RI, CT, NY, PA, NJ\n",
    "# indicating region 1 states in the region col\n",
    "df_main.loc[df_main['state'].isin(['Maine', \n",
    "                                   'New Hampshire',\n",
    "                                   'Vermont',\n",
    "                                   'Massachusetts',\n",
    "                                   'Rhode Island',\n",
    "                                   'Connecticut',\n",
    "                                   'New York',\n",
    "                                   'Pennsylvania',\n",
    "                                   'New Jersey',]), 'region'] = 1"
   ]
  },
  {
   "cell_type": "code",
   "execution_count": 7,
   "id": "b2dd3adc",
   "metadata": {},
   "outputs": [],
   "source": [
    "# Region 2: WI, MI, IL, IN, OH, ND, SD, NE, KS, MN, IA, MS\n",
    "# indicating the regions 2 states in the region col\n",
    "df_main.loc[df_main['state'].isin(['Wisconsin',\n",
    "                                   'Michigan',\n",
    "                                   'Illinois',\n",
    "                                   'Indiana',\n",
    "                                   'Ohio',\n",
    "                                   'North Dakota',\n",
    "                                   'South Dakota',\n",
    "                                   'Nebraska',\n",
    "                                   'Kansas',\n",
    "                                   'Minnesota',\n",
    "                                   'Iowa',\n",
    "                                   'Missouri',\n",
    "                                    ]), 'region'] = 2"
   ]
  },
  {
   "cell_type": "code",
   "execution_count": 8,
   "id": "c48af81b",
   "metadata": {},
   "outputs": [],
   "source": [
    "# Region 3: DE, MD, D.C., VA, WV, NC, SC, GA, FL, KY, TN, MI, AL. OK, TX, AR, LA\n",
    "df_main.loc[df_main['state'].isin(['Delaware',\n",
    "                                  'Maryland',\n",
    "                                  'District of Columbia',\n",
    "                                  'Virginia',\n",
    "                                  'West Virginia',\n",
    "                                  'North Carolina',\n",
    "                                  'South Carolina',\n",
    "                                  'Georgia',\n",
    "                                  'Florida',\n",
    "                                  'Kentucky',\n",
    "                                  'Tennessee',\n",
    "                                  'Mississippi',\n",
    "                                  'Alabama',\n",
    "                                  'Oklahoma',\n",
    "                                  'Texas',\n",
    "                                  'Arkansas',\n",
    "                                  'Louisiana']), 'region'] = 3"
   ]
  },
  {
   "cell_type": "code",
   "execution_count": 9,
   "id": "a9a52846",
   "metadata": {},
   "outputs": [],
   "source": [
    "# Region 4: ID, MT, WY, NV, UT, CO, AZ, NM, AK, WA, OR, CA, HW\n",
    "df_main.loc[df_main['state'].isin(['Idaho',\n",
    "                                  'Montana',\n",
    "                                  'Wyoming',\n",
    "                                  'Nevada',\n",
    "                                  'Utah',\n",
    "                                  'Colorado',\n",
    "                                  'Arizona',\n",
    "                                  'Alaska',\n",
    "                                  'New Mexico',\n",
    "                                  'Washington',\n",
    "                                  'Oregon',\n",
    "                                  'California',\n",
    "                                  'Hawaii'\n",
    "                                   ]), 'region'] = 4"
   ]
  },
  {
   "cell_type": "code",
   "execution_count": 10,
   "id": "70f7a76f",
   "metadata": {},
   "outputs": [
    {
     "data": {
      "text/plain": [
       "3.0    10791885\n",
       "4.0     8292913\n",
       "2.0     7597325\n",
       "1.0     5722736\n",
       "Name: region, dtype: int64"
      ]
     },
     "execution_count": 10,
     "metadata": {},
     "output_type": "execute_result"
    }
   ],
   "source": [
    "# checking region col \n",
    "df_main['region'].value_counts(dropna = False)"
   ]
  },
  {
   "cell_type": "code",
   "execution_count": 11,
   "id": "481f7f36",
   "metadata": {},
   "outputs": [
    {
     "data": {
      "text/html": [
       "<div>\n",
       "<style scoped>\n",
       "    .dataframe tbody tr th:only-of-type {\n",
       "        vertical-align: middle;\n",
       "    }\n",
       "\n",
       "    .dataframe tbody tr th {\n",
       "        vertical-align: top;\n",
       "    }\n",
       "\n",
       "    .dataframe thead th {\n",
       "        text-align: right;\n",
       "    }\n",
       "</style>\n",
       "<table border=\"1\" class=\"dataframe\">\n",
       "  <thead>\n",
       "    <tr style=\"text-align: right;\">\n",
       "      <th></th>\n",
       "      <th>Unnamed: 0</th>\n",
       "      <th>order_id</th>\n",
       "      <th>user_id</th>\n",
       "      <th>eval_set</th>\n",
       "      <th>order_number</th>\n",
       "      <th>orders_day_of_week</th>\n",
       "      <th>order_hour_of_day</th>\n",
       "      <th>days_since_prior_order</th>\n",
       "      <th>product_id</th>\n",
       "      <th>add_to_cart_order</th>\n",
       "      <th>...</th>\n",
       "      <th>first_name</th>\n",
       "      <th>last_name</th>\n",
       "      <th>gender</th>\n",
       "      <th>state</th>\n",
       "      <th>age</th>\n",
       "      <th>registration_date</th>\n",
       "      <th>number_dependants</th>\n",
       "      <th>marital_status</th>\n",
       "      <th>income</th>\n",
       "      <th>region</th>\n",
       "    </tr>\n",
       "  </thead>\n",
       "  <tbody>\n",
       "  </tbody>\n",
       "</table>\n",
       "<p>0 rows × 36 columns</p>\n",
       "</div>"
      ],
      "text/plain": [
       "Empty DataFrame\n",
       "Columns: [Unnamed: 0, order_id, user_id, eval_set, order_number, orders_day_of_week, order_hour_of_day, days_since_prior_order, product_id, add_to_cart_order, reordered, product_name, aisle_id, department_id, prices, _merge, price_range_loc, busiest_day, busiest_days, busiest_period_of_day, max_order, loyalty_flag, avg_price, spending_flag, median_freq, order_freq_flag, first_name, last_name, gender, state, age, registration_date, number_dependants, marital_status, income, region]\n",
       "Index: []\n",
       "\n",
       "[0 rows x 36 columns]"
      ]
     },
     "execution_count": 11,
     "metadata": {},
     "output_type": "execute_result"
    }
   ],
   "source": [
    "# Finding NaN states \n",
    "df_main[df_main['region'].isnull()]"
   ]
  },
  {
   "cell_type": "markdown",
   "id": "8caa988a",
   "metadata": {},
   "source": [
    "3.2. Spending Trends by Region"
   ]
  },
  {
   "cell_type": "code",
   "execution_count": 12,
   "id": "b32c2767",
   "metadata": {},
   "outputs": [
    {
     "data": {
      "text/plain": [
       "Index(['Unnamed: 0', 'order_id', 'user_id', 'eval_set', 'order_number',\n",
       "       'orders_day_of_week', 'order_hour_of_day', 'days_since_prior_order',\n",
       "       'product_id', 'add_to_cart_order', 'reordered', 'product_name',\n",
       "       'aisle_id', 'department_id', 'prices', '_merge', 'price_range_loc',\n",
       "       'busiest_day', 'busiest_days', 'busiest_period_of_day', 'max_order',\n",
       "       'loyalty_flag', 'avg_price', 'spending_flag', 'median_freq',\n",
       "       'order_freq_flag', 'first_name', 'last_name', 'gender', 'state', 'age',\n",
       "       'registration_date', 'number_dependants', 'marital_status', 'income',\n",
       "       'region'],\n",
       "      dtype='object')"
      ]
     },
     "execution_count": 12,
     "metadata": {},
     "output_type": "execute_result"
    }
   ],
   "source": [
    "# listing the col names\n",
    "df_main.columns"
   ]
  },
  {
   "cell_type": "code",
   "execution_count": 13,
   "id": "b6b69ba1",
   "metadata": {},
   "outputs": [],
   "source": [
    "# crossing the region and spending crosstab\n",
    "region_spending = pd.crosstab(df_main['region'], df_main['spending_flag'], dropna = False)"
   ]
  },
  {
   "cell_type": "code",
   "execution_count": 14,
   "id": "f1e3046b",
   "metadata": {},
   "outputs": [
    {
     "data": {
      "text/html": [
       "<div>\n",
       "<style scoped>\n",
       "    .dataframe tbody tr th:only-of-type {\n",
       "        vertical-align: middle;\n",
       "    }\n",
       "\n",
       "    .dataframe tbody tr th {\n",
       "        vertical-align: top;\n",
       "    }\n",
       "\n",
       "    .dataframe thead th {\n",
       "        text-align: right;\n",
       "    }\n",
       "</style>\n",
       "<table border=\"1\" class=\"dataframe\">\n",
       "  <thead>\n",
       "    <tr style=\"text-align: right;\">\n",
       "      <th>spending_flag</th>\n",
       "      <th>High spender</th>\n",
       "      <th>Low spender</th>\n",
       "    </tr>\n",
       "    <tr>\n",
       "      <th>region</th>\n",
       "      <th></th>\n",
       "      <th></th>\n",
       "    </tr>\n",
       "  </thead>\n",
       "  <tbody>\n",
       "    <tr>\n",
       "      <th>1.0</th>\n",
       "      <td>108225</td>\n",
       "      <td>5614511</td>\n",
       "    </tr>\n",
       "    <tr>\n",
       "      <th>2.0</th>\n",
       "      <td>155975</td>\n",
       "      <td>7441350</td>\n",
       "    </tr>\n",
       "    <tr>\n",
       "      <th>3.0</th>\n",
       "      <td>209691</td>\n",
       "      <td>10582194</td>\n",
       "    </tr>\n",
       "    <tr>\n",
       "      <th>4.0</th>\n",
       "      <td>160354</td>\n",
       "      <td>8132559</td>\n",
       "    </tr>\n",
       "  </tbody>\n",
       "</table>\n",
       "</div>"
      ],
      "text/plain": [
       "spending_flag  High spender  Low spender\n",
       "region                                  \n",
       "1.0                  108225      5614511\n",
       "2.0                  155975      7441350\n",
       "3.0                  209691     10582194\n",
       "4.0                  160354      8132559"
      ]
     },
     "execution_count": 14,
     "metadata": {},
     "output_type": "execute_result"
    }
   ],
   "source": [
    "# viewing the crosstab \n",
    "region_spending"
   ]
  },
  {
   "cell_type": "code",
   "execution_count": 15,
   "id": "6eb8f2ae",
   "metadata": {},
   "outputs": [
    {
     "data": {
      "image/png": "[encoded data removed]",
      "text/plain": [
       "<Figure size 640x480 with 1 Axes>"
      ]
     },
     "metadata": {},
     "output_type": "display_data"
    }
   ],
   "source": [
    "# bar graph for the spending flag distribution \n",
    "region_bar = region_spending.plot.bar(rot = 0, color = ['navy', 'mediumslateblue', 'lightsteelblue'])"
   ]
  },
  {
   "cell_type": "code",
   "execution_count": 16,
   "id": "34a550b9",
   "metadata": {},
   "outputs": [],
   "source": [
    "# exporting the bar graph\n",
    "# loyalty_bar.figure.savefig(os.path.join(path, '04 Analysis', 'Visualizations', 'loyalty_bar.png'))\n",
    "region_bar.figure.savefig(os.path.join(path, '04 Analysis', 'Visualizations', 'regional_spending_bar.png'))"
   ]
  },
  {
   "cell_type": "markdown",
   "id": "765e04c6",
   "metadata": {},
   "source": [
    "# 4. Active Customer Dataset"
   ]
  },
  {
   "cell_type": "code",
   "execution_count": 17,
   "id": "4e12c85b",
   "metadata": {},
   "outputs": [],
   "source": [
    "# creating the low_activity flag\n",
    "df_main.loc[df_main['max_order'] < 5, 'activity_flag'] = 'low activity'"
   ]
  },
  {
   "cell_type": "code",
   "execution_count": 18,
   "id": "f5c3da2a",
   "metadata": {},
   "outputs": [],
   "source": [
    "# creating the good_activity \n",
    "df_main.loc[df_main['max_order'] >= 5, 'activity_flag'] = 'good activity'"
   ]
  },
  {
   "cell_type": "code",
   "execution_count": 19,
   "id": "d26e4854",
   "metadata": {},
   "outputs": [
    {
     "data": {
      "text/plain": [
       "good activity    30964564\n",
       "low activity      1440295\n",
       "Name: activity_flag, dtype: int64"
      ]
     },
     "execution_count": 19,
     "metadata": {},
     "output_type": "execute_result"
    }
   ],
   "source": [
    "# checking the activity flag\n",
    "df_main['activity_flag'].value_counts(dropna = False)"
   ]
  },
  {
   "cell_type": "code",
   "execution_count": 20,
   "id": "812e614e",
   "metadata": {},
   "outputs": [],
   "source": [
    "# creating the subset dataframe without low-acitivity customers\n",
    "df_active_users = df_main.loc[df_main['activity_flag'] == 'good activity']"
   ]
  },
  {
   "cell_type": "code",
   "execution_count": 21,
   "id": "82946455",
   "metadata": {},
   "outputs": [
    {
     "data": {
      "text/html": [
       "<div>\n",
       "<style scoped>\n",
       "    .dataframe tbody tr th:only-of-type {\n",
       "        vertical-align: middle;\n",
       "    }\n",
       "\n",
       "    .dataframe tbody tr th {\n",
       "        vertical-align: top;\n",
       "    }\n",
       "\n",
       "    .dataframe thead th {\n",
       "        text-align: right;\n",
       "    }\n",
       "</style>\n",
       "<table border=\"1\" class=\"dataframe\">\n",
       "  <thead>\n",
       "    <tr style=\"text-align: right;\">\n",
       "      <th></th>\n",
       "      <th>Unnamed: 0</th>\n",
       "      <th>order_id</th>\n",
       "      <th>user_id</th>\n",
       "      <th>eval_set</th>\n",
       "      <th>order_number</th>\n",
       "      <th>orders_day_of_week</th>\n",
       "      <th>order_hour_of_day</th>\n",
       "      <th>days_since_prior_order</th>\n",
       "      <th>product_id</th>\n",
       "      <th>add_to_cart_order</th>\n",
       "      <th>...</th>\n",
       "      <th>last_name</th>\n",
       "      <th>gender</th>\n",
       "      <th>state</th>\n",
       "      <th>age</th>\n",
       "      <th>registration_date</th>\n",
       "      <th>number_dependants</th>\n",
       "      <th>marital_status</th>\n",
       "      <th>income</th>\n",
       "      <th>region</th>\n",
       "      <th>activity_flag</th>\n",
       "    </tr>\n",
       "  </thead>\n",
       "  <tbody>\n",
       "    <tr>\n",
       "      <th>0</th>\n",
       "      <td>0</td>\n",
       "      <td>2539329</td>\n",
       "      <td>1</td>\n",
       "      <td>prior</td>\n",
       "      <td>1</td>\n",
       "      <td>2</td>\n",
       "      <td>8</td>\n",
       "      <td>NaN</td>\n",
       "      <td>196</td>\n",
       "      <td>1</td>\n",
       "      <td>...</td>\n",
       "      <td>Nguyen</td>\n",
       "      <td>Female</td>\n",
       "      <td>Alabama</td>\n",
       "      <td>31</td>\n",
       "      <td>2/17/2019</td>\n",
       "      <td>3</td>\n",
       "      <td>married</td>\n",
       "      <td>40423</td>\n",
       "      <td>3.0</td>\n",
       "      <td>good activity</td>\n",
       "    </tr>\n",
       "    <tr>\n",
       "      <th>1</th>\n",
       "      <td>1</td>\n",
       "      <td>2398795</td>\n",
       "      <td>1</td>\n",
       "      <td>prior</td>\n",
       "      <td>2</td>\n",
       "      <td>3</td>\n",
       "      <td>7</td>\n",
       "      <td>15.0</td>\n",
       "      <td>196</td>\n",
       "      <td>1</td>\n",
       "      <td>...</td>\n",
       "      <td>Nguyen</td>\n",
       "      <td>Female</td>\n",
       "      <td>Alabama</td>\n",
       "      <td>31</td>\n",
       "      <td>2/17/2019</td>\n",
       "      <td>3</td>\n",
       "      <td>married</td>\n",
       "      <td>40423</td>\n",
       "      <td>3.0</td>\n",
       "      <td>good activity</td>\n",
       "    </tr>\n",
       "    <tr>\n",
       "      <th>2</th>\n",
       "      <td>2</td>\n",
       "      <td>473747</td>\n",
       "      <td>1</td>\n",
       "      <td>prior</td>\n",
       "      <td>3</td>\n",
       "      <td>3</td>\n",
       "      <td>12</td>\n",
       "      <td>21.0</td>\n",
       "      <td>196</td>\n",
       "      <td>1</td>\n",
       "      <td>...</td>\n",
       "      <td>Nguyen</td>\n",
       "      <td>Female</td>\n",
       "      <td>Alabama</td>\n",
       "      <td>31</td>\n",
       "      <td>2/17/2019</td>\n",
       "      <td>3</td>\n",
       "      <td>married</td>\n",
       "      <td>40423</td>\n",
       "      <td>3.0</td>\n",
       "      <td>good activity</td>\n",
       "    </tr>\n",
       "    <tr>\n",
       "      <th>3</th>\n",
       "      <td>3</td>\n",
       "      <td>2254736</td>\n",
       "      <td>1</td>\n",
       "      <td>prior</td>\n",
       "      <td>4</td>\n",
       "      <td>4</td>\n",
       "      <td>7</td>\n",
       "      <td>29.0</td>\n",
       "      <td>196</td>\n",
       "      <td>1</td>\n",
       "      <td>...</td>\n",
       "      <td>Nguyen</td>\n",
       "      <td>Female</td>\n",
       "      <td>Alabama</td>\n",
       "      <td>31</td>\n",
       "      <td>2/17/2019</td>\n",
       "      <td>3</td>\n",
       "      <td>married</td>\n",
       "      <td>40423</td>\n",
       "      <td>3.0</td>\n",
       "      <td>good activity</td>\n",
       "    </tr>\n",
       "    <tr>\n",
       "      <th>4</th>\n",
       "      <td>4</td>\n",
       "      <td>431534</td>\n",
       "      <td>1</td>\n",
       "      <td>prior</td>\n",
       "      <td>5</td>\n",
       "      <td>4</td>\n",
       "      <td>15</td>\n",
       "      <td>28.0</td>\n",
       "      <td>196</td>\n",
       "      <td>1</td>\n",
       "      <td>...</td>\n",
       "      <td>Nguyen</td>\n",
       "      <td>Female</td>\n",
       "      <td>Alabama</td>\n",
       "      <td>31</td>\n",
       "      <td>2/17/2019</td>\n",
       "      <td>3</td>\n",
       "      <td>married</td>\n",
       "      <td>40423</td>\n",
       "      <td>3.0</td>\n",
       "      <td>good activity</td>\n",
       "    </tr>\n",
       "  </tbody>\n",
       "</table>\n",
       "<p>5 rows × 37 columns</p>\n",
       "</div>"
      ],
      "text/plain": [
       "   Unnamed: 0  order_id  user_id eval_set  order_number  orders_day_of_week  \\\n",
       "0           0   2539329        1    prior             1                   2   \n",
       "1           1   2398795        1    prior             2                   3   \n",
       "2           2    473747        1    prior             3                   3   \n",
       "3           3   2254736        1    prior             4                   4   \n",
       "4           4    431534        1    prior             5                   4   \n",
       "\n",
       "   order_hour_of_day  days_since_prior_order  product_id  add_to_cart_order  \\\n",
       "0                  8                     NaN         196                  1   \n",
       "1                  7                    15.0         196                  1   \n",
       "2                 12                    21.0         196                  1   \n",
       "3                  7                    29.0         196                  1   \n",
       "4                 15                    28.0         196                  1   \n",
       "\n",
       "   ...  last_name  gender    state  age  registration_date number_dependants  \\\n",
       "0  ...     Nguyen  Female  Alabama   31          2/17/2019                 3   \n",
       "1  ...     Nguyen  Female  Alabama   31          2/17/2019                 3   \n",
       "2  ...     Nguyen  Female  Alabama   31          2/17/2019                 3   \n",
       "3  ...     Nguyen  Female  Alabama   31          2/17/2019                 3   \n",
       "4  ...     Nguyen  Female  Alabama   31          2/17/2019                 3   \n",
       "\n",
       "  marital_status income region  activity_flag  \n",
       "0        married  40423    3.0  good activity  \n",
       "1        married  40423    3.0  good activity  \n",
       "2        married  40423    3.0  good activity  \n",
       "3        married  40423    3.0  good activity  \n",
       "4        married  40423    3.0  good activity  \n",
       "\n",
       "[5 rows x 37 columns]"
      ]
     },
     "execution_count": 21,
     "metadata": {},
     "output_type": "execute_result"
    }
   ],
   "source": [
    "# checking the active users table\n",
    "df_active_users.head()"
   ]
  },
  {
   "cell_type": "code",
   "execution_count": 22,
   "id": "c02da25e",
   "metadata": {},
   "outputs": [],
   "source": [
    "# exporting the sample\n",
    "df_active_users.to_pickle(os.path.join(path, 'Prepared Data', 'active_users_sample.pkl'))"
   ]
  },
  {
   "cell_type": "markdown",
   "id": "0d0e7f3b",
   "metadata": {},
   "source": [
    "# 5. Customer Profiling"
   ]
  },
  {
   "cell_type": "code",
   "execution_count": 23,
   "id": "8ed72ebc",
   "metadata": {},
   "outputs": [
    {
     "data": {
      "text/html": [
       "<div>\n",
       "<style scoped>\n",
       "    .dataframe tbody tr th:only-of-type {\n",
       "        vertical-align: middle;\n",
       "    }\n",
       "\n",
       "    .dataframe tbody tr th {\n",
       "        vertical-align: top;\n",
       "    }\n",
       "\n",
       "    .dataframe thead th {\n",
       "        text-align: right;\n",
       "    }\n",
       "</style>\n",
       "<table border=\"1\" class=\"dataframe\">\n",
       "  <thead>\n",
       "    <tr style=\"text-align: right;\">\n",
       "      <th></th>\n",
       "      <th>age</th>\n",
       "      <th>income</th>\n",
       "      <th>number_dependants</th>\n",
       "    </tr>\n",
       "  </thead>\n",
       "  <tbody>\n",
       "    <tr>\n",
       "      <th>count</th>\n",
       "      <td>3.240486e+07</td>\n",
       "      <td>3.240486e+07</td>\n",
       "      <td>3.240486e+07</td>\n",
       "    </tr>\n",
       "    <tr>\n",
       "      <th>mean</th>\n",
       "      <td>4.946527e+01</td>\n",
       "      <td>9.943773e+04</td>\n",
       "      <td>1.501896e+00</td>\n",
       "    </tr>\n",
       "    <tr>\n",
       "      <th>std</th>\n",
       "      <td>1.848558e+01</td>\n",
       "      <td>4.305727e+04</td>\n",
       "      <td>1.118865e+00</td>\n",
       "    </tr>\n",
       "    <tr>\n",
       "      <th>min</th>\n",
       "      <td>1.800000e+01</td>\n",
       "      <td>2.590300e+04</td>\n",
       "      <td>0.000000e+00</td>\n",
       "    </tr>\n",
       "    <tr>\n",
       "      <th>25%</th>\n",
       "      <td>3.300000e+01</td>\n",
       "      <td>6.700400e+04</td>\n",
       "      <td>1.000000e+00</td>\n",
       "    </tr>\n",
       "    <tr>\n",
       "      <th>50%</th>\n",
       "      <td>4.900000e+01</td>\n",
       "      <td>9.661800e+04</td>\n",
       "      <td>2.000000e+00</td>\n",
       "    </tr>\n",
       "    <tr>\n",
       "      <th>75%</th>\n",
       "      <td>6.500000e+01</td>\n",
       "      <td>1.279120e+05</td>\n",
       "      <td>3.000000e+00</td>\n",
       "    </tr>\n",
       "    <tr>\n",
       "      <th>max</th>\n",
       "      <td>8.100000e+01</td>\n",
       "      <td>5.939010e+05</td>\n",
       "      <td>3.000000e+00</td>\n",
       "    </tr>\n",
       "  </tbody>\n",
       "</table>\n",
       "</div>"
      ],
      "text/plain": [
       "                age        income  number_dependants\n",
       "count  3.240486e+07  3.240486e+07       3.240486e+07\n",
       "mean   4.946527e+01  9.943773e+04       1.501896e+00\n",
       "std    1.848558e+01  4.305727e+04       1.118865e+00\n",
       "min    1.800000e+01  2.590300e+04       0.000000e+00\n",
       "25%    3.300000e+01  6.700400e+04       1.000000e+00\n",
       "50%    4.900000e+01  9.661800e+04       2.000000e+00\n",
       "75%    6.500000e+01  1.279120e+05       3.000000e+00\n",
       "max    8.100000e+01  5.939010e+05       3.000000e+00"
      ]
     },
     "execution_count": 23,
     "metadata": {},
     "output_type": "execute_result"
    }
   ],
   "source": [
    "# descriptive statistics on the age, income, and number of dependents parameters\n",
    "df_main[['age', 'income', 'number_dependants' ]].describe()"
   ]
  },
  {
   "cell_type": "code",
   "execution_count": 24,
   "id": "7ac0fc70",
   "metadata": {},
   "outputs": [
    {
     "data": {
      "text/html": [
       "<div>\n",
       "<style scoped>\n",
       "    .dataframe tbody tr th:only-of-type {\n",
       "        vertical-align: middle;\n",
       "    }\n",
       "\n",
       "    .dataframe tbody tr th {\n",
       "        vertical-align: top;\n",
       "    }\n",
       "\n",
       "    .dataframe thead th {\n",
       "        text-align: right;\n",
       "    }\n",
       "</style>\n",
       "<table border=\"1\" class=\"dataframe\">\n",
       "  <thead>\n",
       "    <tr style=\"text-align: right;\">\n",
       "      <th></th>\n",
       "      <th>department</th>\n",
       "    </tr>\n",
       "  </thead>\n",
       "  <tbody>\n",
       "    <tr>\n",
       "      <th>1</th>\n",
       "      <td>frozen</td>\n",
       "    </tr>\n",
       "    <tr>\n",
       "      <th>2</th>\n",
       "      <td>other</td>\n",
       "    </tr>\n",
       "    <tr>\n",
       "      <th>3</th>\n",
       "      <td>bakery</td>\n",
       "    </tr>\n",
       "    <tr>\n",
       "      <th>4</th>\n",
       "      <td>produce</td>\n",
       "    </tr>\n",
       "    <tr>\n",
       "      <th>5</th>\n",
       "      <td>alcohol</td>\n",
       "    </tr>\n",
       "    <tr>\n",
       "      <th>6</th>\n",
       "      <td>international</td>\n",
       "    </tr>\n",
       "    <tr>\n",
       "      <th>7</th>\n",
       "      <td>beverages</td>\n",
       "    </tr>\n",
       "    <tr>\n",
       "      <th>8</th>\n",
       "      <td>pets</td>\n",
       "    </tr>\n",
       "    <tr>\n",
       "      <th>9</th>\n",
       "      <td>dry goods pasta</td>\n",
       "    </tr>\n",
       "    <tr>\n",
       "      <th>10</th>\n",
       "      <td>bulk</td>\n",
       "    </tr>\n",
       "    <tr>\n",
       "      <th>11</th>\n",
       "      <td>personal care</td>\n",
       "    </tr>\n",
       "    <tr>\n",
       "      <th>12</th>\n",
       "      <td>meat seafood</td>\n",
       "    </tr>\n",
       "    <tr>\n",
       "      <th>13</th>\n",
       "      <td>pantry</td>\n",
       "    </tr>\n",
       "    <tr>\n",
       "      <th>14</th>\n",
       "      <td>breakfast</td>\n",
       "    </tr>\n",
       "    <tr>\n",
       "      <th>15</th>\n",
       "      <td>canned goods</td>\n",
       "    </tr>\n",
       "    <tr>\n",
       "      <th>16</th>\n",
       "      <td>dairy eggs</td>\n",
       "    </tr>\n",
       "    <tr>\n",
       "      <th>17</th>\n",
       "      <td>household</td>\n",
       "    </tr>\n",
       "    <tr>\n",
       "      <th>18</th>\n",
       "      <td>babies</td>\n",
       "    </tr>\n",
       "    <tr>\n",
       "      <th>19</th>\n",
       "      <td>snacks</td>\n",
       "    </tr>\n",
       "    <tr>\n",
       "      <th>20</th>\n",
       "      <td>deli</td>\n",
       "    </tr>\n",
       "    <tr>\n",
       "      <th>21</th>\n",
       "      <td>missing</td>\n",
       "    </tr>\n",
       "  </tbody>\n",
       "</table>\n",
       "</div>"
      ],
      "text/plain": [
       "         department\n",
       "1            frozen\n",
       "2             other\n",
       "3            bakery\n",
       "4           produce\n",
       "5           alcohol\n",
       "6     international\n",
       "7         beverages\n",
       "8              pets\n",
       "9   dry goods pasta\n",
       "10             bulk\n",
       "11    personal care\n",
       "12     meat seafood\n",
       "13           pantry\n",
       "14        breakfast\n",
       "15     canned goods\n",
       "16       dairy eggs\n",
       "17        household\n",
       "18           babies\n",
       "19           snacks\n",
       "20             deli\n",
       "21          missing"
      ]
     },
     "execution_count": 24,
     "metadata": {},
     "output_type": "execute_result"
    }
   ],
   "source": [
    "# checking the departments\n",
    "df_dict"
   ]
  },
  {
   "cell_type": "code",
   "execution_count": 25,
   "id": "ca304a6e",
   "metadata": {},
   "outputs": [],
   "source": [
    "# new parent profile (including parents that have a new babies but multiple children)\n",
    "df_main.loc[(df_main['number_dependants'] >= 1) &  (df_main['department_id'] == 18), 'profile'] = 'New Parent'"
   ]
  },
  {
   "cell_type": "code",
   "execution_count": 26,
   "id": "774774a2",
   "metadata": {},
   "outputs": [],
   "source": [
    "# single adult profile\n",
    "df_main.loc[(df_main['number_dependants'] == 0) &  (df_main['age'] < 65), 'profile'] = 'Single Adult'"
   ]
  },
  {
   "cell_type": "code",
   "execution_count": 27,
   "id": "c5155cd4",
   "metadata": {},
   "outputs": [],
   "source": [
    "# single parent profile\n",
    "df_main.loc[(df_main['number_dependants'] >= 1) & (df_main['income'] < 50000) &  (df_main['department_id'] != 18), 'profile'] = 'Single Parent'"
   ]
  },
  {
   "cell_type": "code",
   "execution_count": 28,
   "id": "4d56a4f2",
   "metadata": {},
   "outputs": [],
   "source": [
    "# partnered parent profile\n",
    "df_main.loc[(df_main['number_dependants'] >= 1) & (df_main['income'] >= 50000) &  (df_main['department_id'] != 18), 'profile'] = 'Partnered Parent'"
   ]
  },
  {
   "cell_type": "code",
   "execution_count": 29,
   "id": "4de2cce9",
   "metadata": {},
   "outputs": [],
   "source": [
    "# retired adult profile\n",
    "df_main.loc[(df_main['number_dependants'] == 0) &  (df_main['age'] >= 65), 'profile'] = 'Retired Adult'"
   ]
  },
  {
   "cell_type": "code",
   "execution_count": 30,
   "id": "8b4dca0c",
   "metadata": {},
   "outputs": [
    {
     "data": {
      "text/plain": [
       "Partnered Parent    21323133\n",
       "Single Adult         5977419\n",
       "Single Parent        2666915\n",
       "Retired Adult        2120084\n",
       "New Parent            317308\n",
       "Name: profile, dtype: int64"
      ]
     },
     "execution_count": 30,
     "metadata": {},
     "output_type": "execute_result"
    }
   ],
   "source": [
    "# checking for profiles\n",
    "df_main['profile'].value_counts(dropna = False)"
   ]
  },
  {
   "cell_type": "markdown",
   "id": "a71e94a5",
   "metadata": {},
   "source": [
    "# 6. Profile Distribution"
   ]
  },
  {
   "cell_type": "code",
   "execution_count": 31,
   "id": "331f4299",
   "metadata": {},
   "outputs": [
    {
     "data": {
      "image/png": "[encoded data removed]",
      "text/plain": [
       "<Figure size 640x480 with 1 Axes>"
      ]
     },
     "metadata": {},
     "output_type": "display_data"
    }
   ],
   "source": [
    "# profie distibution \n",
    "profile_dist_bar = df_main['profile'].value_counts().plot.bar(color = ['navy', 'lavender', 'lavender', 'lavender', 'lavender'])"
   ]
  },
  {
   "cell_type": "code",
   "execution_count": 32,
   "id": "fd215fda",
   "metadata": {},
   "outputs": [],
   "source": [
    "# exporting the visualiation\n",
    "profile_dist_bar.figure.savefig(os.path.join(path, '04 Analysis', 'Visualizations', 'profile_distibution_bar.png'))"
   ]
  },
  {
   "cell_type": "markdown",
   "id": "cd1ef22e",
   "metadata": {},
   "source": [
    "# 7. Profile Aggregation"
   ]
  },
  {
   "cell_type": "code",
   "execution_count": 33,
   "id": "cfbd15ab",
   "metadata": {},
   "outputs": [
    {
     "data": {
      "text/html": [
       "<div>\n",
       "<style scoped>\n",
       "    .dataframe tbody tr th:only-of-type {\n",
       "        vertical-align: middle;\n",
       "    }\n",
       "\n",
       "    .dataframe tbody tr th {\n",
       "        vertical-align: top;\n",
       "    }\n",
       "\n",
       "    .dataframe thead tr th {\n",
       "        text-align: left;\n",
       "    }\n",
       "\n",
       "    .dataframe thead tr:last-of-type th {\n",
       "        text-align: right;\n",
       "    }\n",
       "</style>\n",
       "<table border=\"1\" class=\"dataframe\">\n",
       "  <thead>\n",
       "    <tr>\n",
       "      <th></th>\n",
       "      <th colspan=\"3\" halign=\"left\">prices</th>\n",
       "    </tr>\n",
       "    <tr>\n",
       "      <th></th>\n",
       "      <th>mean</th>\n",
       "      <th>max</th>\n",
       "      <th>min</th>\n",
       "    </tr>\n",
       "    <tr>\n",
       "      <th>profile</th>\n",
       "      <th></th>\n",
       "      <th></th>\n",
       "      <th></th>\n",
       "    </tr>\n",
       "  </thead>\n",
       "  <tbody>\n",
       "    <tr>\n",
       "      <th>New Parent</th>\n",
       "      <td>7.650679</td>\n",
       "      <td>15.0</td>\n",
       "      <td>1.0</td>\n",
       "    </tr>\n",
       "    <tr>\n",
       "      <th>Partnered Parent</th>\n",
       "      <td>12.649539</td>\n",
       "      <td>99999.0</td>\n",
       "      <td>1.0</td>\n",
       "    </tr>\n",
       "    <tr>\n",
       "      <th>Retired Adult</th>\n",
       "      <td>11.905177</td>\n",
       "      <td>99999.0</td>\n",
       "      <td>1.0</td>\n",
       "    </tr>\n",
       "    <tr>\n",
       "      <th>Single Adult</th>\n",
       "      <td>12.208715</td>\n",
       "      <td>99999.0</td>\n",
       "      <td>1.0</td>\n",
       "    </tr>\n",
       "    <tr>\n",
       "      <th>Single Parent</th>\n",
       "      <td>6.691449</td>\n",
       "      <td>25.0</td>\n",
       "      <td>1.0</td>\n",
       "    </tr>\n",
       "  </tbody>\n",
       "</table>\n",
       "</div>"
      ],
      "text/plain": [
       "                     prices              \n",
       "                       mean      max  min\n",
       "profile                                  \n",
       "New Parent         7.650679     15.0  1.0\n",
       "Partnered Parent  12.649539  99999.0  1.0\n",
       "Retired Adult     11.905177  99999.0  1.0\n",
       "Single Adult      12.208715  99999.0  1.0\n",
       "Single Parent      6.691449     25.0  1.0"
      ]
     },
     "execution_count": 33,
     "metadata": {},
     "output_type": "execute_result"
    }
   ],
   "source": [
    "# grouping profiles by mean, max, and min expenditure \n",
    "df_main.groupby('profile').agg({'prices' : ['mean', 'max', 'min']})"
   ]
  },
  {
   "cell_type": "code",
   "execution_count": 34,
   "id": "a344e419",
   "metadata": {},
   "outputs": [
    {
     "data": {
      "text/html": [
       "<div>\n",
       "<style scoped>\n",
       "    .dataframe tbody tr th:only-of-type {\n",
       "        vertical-align: middle;\n",
       "    }\n",
       "\n",
       "    .dataframe tbody tr th {\n",
       "        vertical-align: top;\n",
       "    }\n",
       "\n",
       "    .dataframe thead tr th {\n",
       "        text-align: left;\n",
       "    }\n",
       "\n",
       "    .dataframe thead tr:last-of-type th {\n",
       "        text-align: right;\n",
       "    }\n",
       "</style>\n",
       "<table border=\"1\" class=\"dataframe\">\n",
       "  <thead>\n",
       "    <tr>\n",
       "      <th></th>\n",
       "      <th colspan=\"3\" halign=\"left\">days_since_prior_order</th>\n",
       "    </tr>\n",
       "    <tr>\n",
       "      <th></th>\n",
       "      <th>mean</th>\n",
       "      <th>max</th>\n",
       "      <th>min</th>\n",
       "    </tr>\n",
       "    <tr>\n",
       "      <th>profile</th>\n",
       "      <th></th>\n",
       "      <th></th>\n",
       "      <th></th>\n",
       "    </tr>\n",
       "  </thead>\n",
       "  <tbody>\n",
       "    <tr>\n",
       "      <th>New Parent</th>\n",
       "      <td>9.963975</td>\n",
       "      <td>30.0</td>\n",
       "      <td>0.0</td>\n",
       "    </tr>\n",
       "    <tr>\n",
       "      <th>Partnered Parent</th>\n",
       "      <td>11.066002</td>\n",
       "      <td>30.0</td>\n",
       "      <td>0.0</td>\n",
       "    </tr>\n",
       "    <tr>\n",
       "      <th>Retired Adult</th>\n",
       "      <td>11.065273</td>\n",
       "      <td>30.0</td>\n",
       "      <td>0.0</td>\n",
       "    </tr>\n",
       "    <tr>\n",
       "      <th>Single Adult</th>\n",
       "      <td>11.086311</td>\n",
       "      <td>30.0</td>\n",
       "      <td>0.0</td>\n",
       "    </tr>\n",
       "    <tr>\n",
       "      <th>Single Parent</th>\n",
       "      <td>11.621855</td>\n",
       "      <td>30.0</td>\n",
       "      <td>0.0</td>\n",
       "    </tr>\n",
       "  </tbody>\n",
       "</table>\n",
       "</div>"
      ],
      "text/plain": [
       "                 days_since_prior_order           \n",
       "                                   mean   max  min\n",
       "profile                                           \n",
       "New Parent                     9.963975  30.0  0.0\n",
       "Partnered Parent              11.066002  30.0  0.0\n",
       "Retired Adult                 11.065273  30.0  0.0\n",
       "Single Adult                  11.086311  30.0  0.0\n",
       "Single Parent                 11.621855  30.0  0.0"
      ]
     },
     "execution_count": 34,
     "metadata": {},
     "output_type": "execute_result"
    }
   ],
   "source": [
    "# grouping profiles by mean, max, and min usage frequency (with days_since_prior_order)\n",
    "df_main.groupby('profile').agg({'days_since_prior_order' : ['mean', 'max', 'min']})"
   ]
  },
  {
   "cell_type": "markdown",
   "id": "b51b5c44",
   "metadata": {},
   "source": [
    "# 8. Customer Profiles by Region and Department"
   ]
  },
  {
   "cell_type": "markdown",
   "id": "192365da",
   "metadata": {},
   "source": [
    "8.1 Profiles by Region"
   ]
  },
  {
   "cell_type": "code",
   "execution_count": 35,
   "id": "3071362a",
   "metadata": {},
   "outputs": [],
   "source": [
    "# crosstab comparing profiles and region\n",
    "regional_profiles = pd.crosstab(df_main['profile'], df_main['region'])"
   ]
  },
  {
   "cell_type": "code",
   "execution_count": 36,
   "id": "75175dfe",
   "metadata": {},
   "outputs": [
    {
     "data": {
      "text/html": [
       "<div>\n",
       "<style scoped>\n",
       "    .dataframe tbody tr th:only-of-type {\n",
       "        vertical-align: middle;\n",
       "    }\n",
       "\n",
       "    .dataframe tbody tr th {\n",
       "        vertical-align: top;\n",
       "    }\n",
       "\n",
       "    .dataframe thead th {\n",
       "        text-align: right;\n",
       "    }\n",
       "</style>\n",
       "<table border=\"1\" class=\"dataframe\">\n",
       "  <thead>\n",
       "    <tr style=\"text-align: right;\">\n",
       "      <th>region</th>\n",
       "      <th>1.0</th>\n",
       "      <th>2.0</th>\n",
       "      <th>3.0</th>\n",
       "      <th>4.0</th>\n",
       "    </tr>\n",
       "    <tr>\n",
       "      <th>profile</th>\n",
       "      <th></th>\n",
       "      <th></th>\n",
       "      <th></th>\n",
       "      <th></th>\n",
       "    </tr>\n",
       "  </thead>\n",
       "  <tbody>\n",
       "    <tr>\n",
       "      <th>New Parent</th>\n",
       "      <td>56621</td>\n",
       "      <td>73594</td>\n",
       "      <td>107309</td>\n",
       "      <td>79784</td>\n",
       "    </tr>\n",
       "    <tr>\n",
       "      <th>Partnered Parent</th>\n",
       "      <td>3788490</td>\n",
       "      <td>4991867</td>\n",
       "      <td>7080228</td>\n",
       "      <td>5462548</td>\n",
       "    </tr>\n",
       "    <tr>\n",
       "      <th>Retired Adult</th>\n",
       "      <td>395847</td>\n",
       "      <td>492762</td>\n",
       "      <td>691055</td>\n",
       "      <td>540420</td>\n",
       "    </tr>\n",
       "    <tr>\n",
       "      <th>Single Adult</th>\n",
       "      <td>1022454</td>\n",
       "      <td>1412438</td>\n",
       "      <td>2010604</td>\n",
       "      <td>1531923</td>\n",
       "    </tr>\n",
       "    <tr>\n",
       "      <th>Single Parent</th>\n",
       "      <td>459324</td>\n",
       "      <td>626664</td>\n",
       "      <td>902689</td>\n",
       "      <td>678238</td>\n",
       "    </tr>\n",
       "  </tbody>\n",
       "</table>\n",
       "</div>"
      ],
      "text/plain": [
       "region                1.0      2.0      3.0      4.0\n",
       "profile                                             \n",
       "New Parent          56621    73594   107309    79784\n",
       "Partnered Parent  3788490  4991867  7080228  5462548\n",
       "Retired Adult      395847   492762   691055   540420\n",
       "Single Adult      1022454  1412438  2010604  1531923\n",
       "Single Parent      459324   626664   902689   678238"
      ]
     },
     "execution_count": 36,
     "metadata": {},
     "output_type": "execute_result"
    }
   ],
   "source": [
    "# checking the regional profiles crosstab\n",
    "regional_profiles"
   ]
  },
  {
   "cell_type": "code",
   "execution_count": 37,
   "id": "df5a74df",
   "metadata": {},
   "outputs": [
    {
     "data": {
      "image/png": "[encoded data removed]",
      "text/plain": [
       "<Figure size 640x480 with 1 Axes>"
      ]
     },
     "metadata": {},
     "output_type": "display_data"
    }
   ],
   "source": [
    "regional_profiles_bar = regional_profiles.plot.bar( color = ['navy', 'mediumslateblue', 'lightsteelblue', 'blue'])"
   ]
  },
  {
   "cell_type": "code",
   "execution_count": 38,
   "id": "ea85c47f",
   "metadata": {},
   "outputs": [],
   "source": [
    "# creating a crosstab of the profiles by region\n",
    "prof_by_reg = pd.crosstab(df_main['region'], df_main['profile'])"
   ]
  },
  {
   "cell_type": "code",
   "execution_count": 39,
   "id": "3fa86d98",
   "metadata": {},
   "outputs": [
    {
     "data": {
      "text/html": [
       "<div>\n",
       "<style scoped>\n",
       "    .dataframe tbody tr th:only-of-type {\n",
       "        vertical-align: middle;\n",
       "    }\n",
       "\n",
       "    .dataframe tbody tr th {\n",
       "        vertical-align: top;\n",
       "    }\n",
       "\n",
       "    .dataframe thead th {\n",
       "        text-align: right;\n",
       "    }\n",
       "</style>\n",
       "<table border=\"1\" class=\"dataframe\">\n",
       "  <thead>\n",
       "    <tr style=\"text-align: right;\">\n",
       "      <th>profile</th>\n",
       "      <th>New Parent</th>\n",
       "      <th>Partnered Parent</th>\n",
       "      <th>Retired Adult</th>\n",
       "      <th>Single Adult</th>\n",
       "      <th>Single Parent</th>\n",
       "    </tr>\n",
       "    <tr>\n",
       "      <th>region</th>\n",
       "      <th></th>\n",
       "      <th></th>\n",
       "      <th></th>\n",
       "      <th></th>\n",
       "      <th></th>\n",
       "    </tr>\n",
       "  </thead>\n",
       "  <tbody>\n",
       "    <tr>\n",
       "      <th>1.0</th>\n",
       "      <td>56621</td>\n",
       "      <td>3788490</td>\n",
       "      <td>395847</td>\n",
       "      <td>1022454</td>\n",
       "      <td>459324</td>\n",
       "    </tr>\n",
       "    <tr>\n",
       "      <th>2.0</th>\n",
       "      <td>73594</td>\n",
       "      <td>4991867</td>\n",
       "      <td>492762</td>\n",
       "      <td>1412438</td>\n",
       "      <td>626664</td>\n",
       "    </tr>\n",
       "    <tr>\n",
       "      <th>3.0</th>\n",
       "      <td>107309</td>\n",
       "      <td>7080228</td>\n",
       "      <td>691055</td>\n",
       "      <td>2010604</td>\n",
       "      <td>902689</td>\n",
       "    </tr>\n",
       "    <tr>\n",
       "      <th>4.0</th>\n",
       "      <td>79784</td>\n",
       "      <td>5462548</td>\n",
       "      <td>540420</td>\n",
       "      <td>1531923</td>\n",
       "      <td>678238</td>\n",
       "    </tr>\n",
       "  </tbody>\n",
       "</table>\n",
       "</div>"
      ],
      "text/plain": [
       "profile  New Parent  Partnered Parent  Retired Adult  Single Adult  \\\n",
       "region                                                               \n",
       "1.0           56621           3788490         395847       1022454   \n",
       "2.0           73594           4991867         492762       1412438   \n",
       "3.0          107309           7080228         691055       2010604   \n",
       "4.0           79784           5462548         540420       1531923   \n",
       "\n",
       "profile  Single Parent  \n",
       "region                  \n",
       "1.0             459324  \n",
       "2.0             626664  \n",
       "3.0             902689  \n",
       "4.0             678238  "
      ]
     },
     "execution_count": 39,
     "metadata": {},
     "output_type": "execute_result"
    }
   ],
   "source": [
    "# checking the profile be region crossbar\n",
    "prof_by_reg"
   ]
  },
  {
   "cell_type": "code",
   "execution_count": 40,
   "id": "07348399",
   "metadata": {},
   "outputs": [
    {
     "data": {
      "text/plain": [
       "<matplotlib.legend.Legend at 0x180b0f1fe20>"
      ]
     },
     "execution_count": 40,
     "metadata": {},
     "output_type": "execute_result"
    },
    {
     "data": {
      "image/png": "[encoded data removed]",
      "text/plain": [
       "<Figure size 640x480 with 1 Axes>"
      ]
     },
     "metadata": {},
     "output_type": "display_data"
    }
   ],
   "source": [
    "# creating a bar chart showing profiles by region\n",
    "prof_by_reg_bar = prof_by_reg.plot.bar(rot = 0, color = ['navy', 'mediumslateblue', 'lightsteelblue', 'blue', 'royalblue'])\n",
    "plt.legend(loc = 'best')"
   ]
  },
  {
   "cell_type": "code",
   "execution_count": 41,
   "id": "306a54f7",
   "metadata": {},
   "outputs": [],
   "source": [
    "# exporting the profile by region bar graph\n",
    "prof_by_reg_bar.figure.savefig(os.path.join(path, '04 Analysis', 'Visualizations', 'profiles_by_region_bar.png'))"
   ]
  },
  {
   "cell_type": "markdown",
   "id": "085667e0",
   "metadata": {},
   "source": [
    "8.2 Profiles by department"
   ]
  },
  {
   "cell_type": "code",
   "execution_count": 42,
   "id": "efaed131",
   "metadata": {},
   "outputs": [],
   "source": [
    "# creating crosstab of profiles by departments\n",
    "prof_by_dep = pd.crosstab(df_main['department_id'], df_main['profile'])"
   ]
  },
  {
   "cell_type": "code",
   "execution_count": 43,
   "id": "488cf857",
   "metadata": {},
   "outputs": [
    {
     "data": {
      "text/html": [
       "<div>\n",
       "<style scoped>\n",
       "    .dataframe tbody tr th:only-of-type {\n",
       "        vertical-align: middle;\n",
       "    }\n",
       "\n",
       "    .dataframe tbody tr th {\n",
       "        vertical-align: top;\n",
       "    }\n",
       "\n",
       "    .dataframe thead th {\n",
       "        text-align: right;\n",
       "    }\n",
       "</style>\n",
       "<table border=\"1\" class=\"dataframe\">\n",
       "  <thead>\n",
       "    <tr style=\"text-align: right;\">\n",
       "      <th>profile</th>\n",
       "      <th>New Parent</th>\n",
       "      <th>Partnered Parent</th>\n",
       "      <th>Retired Adult</th>\n",
       "      <th>Single Adult</th>\n",
       "      <th>Single Parent</th>\n",
       "    </tr>\n",
       "    <tr>\n",
       "      <th>department_id</th>\n",
       "      <th></th>\n",
       "      <th></th>\n",
       "      <th></th>\n",
       "      <th></th>\n",
       "      <th></th>\n",
       "    </tr>\n",
       "  </thead>\n",
       "  <tbody>\n",
       "    <tr>\n",
       "      <th>1</th>\n",
       "      <td>0</td>\n",
       "      <td>1502578</td>\n",
       "      <td>148333</td>\n",
       "      <td>408827</td>\n",
       "      <td>175005</td>\n",
       "    </tr>\n",
       "    <tr>\n",
       "      <th>2</th>\n",
       "      <td>0</td>\n",
       "      <td>24102</td>\n",
       "      <td>2291</td>\n",
       "      <td>6884</td>\n",
       "      <td>3014</td>\n",
       "    </tr>\n",
       "    <tr>\n",
       "      <th>3</th>\n",
       "      <td>0</td>\n",
       "      <td>791765</td>\n",
       "      <td>76021</td>\n",
       "      <td>218384</td>\n",
       "      <td>86258</td>\n",
       "    </tr>\n",
       "    <tr>\n",
       "      <th>4</th>\n",
       "      <td>0</td>\n",
       "      <td>6442856</td>\n",
       "      <td>623025</td>\n",
       "      <td>1752420</td>\n",
       "      <td>660990</td>\n",
       "    </tr>\n",
       "    <tr>\n",
       "      <th>5</th>\n",
       "      <td>0</td>\n",
       "      <td>99495</td>\n",
       "      <td>9764</td>\n",
       "      <td>29354</td>\n",
       "      <td>15083</td>\n",
       "    </tr>\n",
       "    <tr>\n",
       "      <th>6</th>\n",
       "      <td>0</td>\n",
       "      <td>184106</td>\n",
       "      <td>17494</td>\n",
       "      <td>50219</td>\n",
       "      <td>17434</td>\n",
       "    </tr>\n",
       "    <tr>\n",
       "      <th>7</th>\n",
       "      <td>0</td>\n",
       "      <td>1709435</td>\n",
       "      <td>176427</td>\n",
       "      <td>498015</td>\n",
       "      <td>304246</td>\n",
       "    </tr>\n",
       "    <tr>\n",
       "      <th>8</th>\n",
       "      <td>0</td>\n",
       "      <td>66211</td>\n",
       "      <td>7024</td>\n",
       "      <td>17559</td>\n",
       "      <td>6922</td>\n",
       "    </tr>\n",
       "    <tr>\n",
       "      <th>9</th>\n",
       "      <td>0</td>\n",
       "      <td>598751</td>\n",
       "      <td>56303</td>\n",
       "      <td>158959</td>\n",
       "      <td>52614</td>\n",
       "    </tr>\n",
       "    <tr>\n",
       "      <th>10</th>\n",
       "      <td>0</td>\n",
       "      <td>22518</td>\n",
       "      <td>2164</td>\n",
       "      <td>6114</td>\n",
       "      <td>3777</td>\n",
       "    </tr>\n",
       "    <tr>\n",
       "      <th>11</th>\n",
       "      <td>0</td>\n",
       "      <td>297133</td>\n",
       "      <td>29838</td>\n",
       "      <td>82168</td>\n",
       "      <td>38433</td>\n",
       "    </tr>\n",
       "    <tr>\n",
       "      <th>12</th>\n",
       "      <td>0</td>\n",
       "      <td>507159</td>\n",
       "      <td>46556</td>\n",
       "      <td>127528</td>\n",
       "      <td>27684</td>\n",
       "    </tr>\n",
       "    <tr>\n",
       "      <th>13</th>\n",
       "      <td>0</td>\n",
       "      <td>1274250</td>\n",
       "      <td>122106</td>\n",
       "      <td>344651</td>\n",
       "      <td>134362</td>\n",
       "    </tr>\n",
       "    <tr>\n",
       "      <th>14</th>\n",
       "      <td>0</td>\n",
       "      <td>455357</td>\n",
       "      <td>44702</td>\n",
       "      <td>129875</td>\n",
       "      <td>73099</td>\n",
       "    </tr>\n",
       "    <tr>\n",
       "      <th>15</th>\n",
       "      <td>0</td>\n",
       "      <td>738344</td>\n",
       "      <td>68668</td>\n",
       "      <td>196170</td>\n",
       "      <td>64876</td>\n",
       "    </tr>\n",
       "    <tr>\n",
       "      <th>16</th>\n",
       "      <td>0</td>\n",
       "      <td>3651874</td>\n",
       "      <td>353749</td>\n",
       "      <td>995613</td>\n",
       "      <td>397511</td>\n",
       "    </tr>\n",
       "    <tr>\n",
       "      <th>17</th>\n",
       "      <td>0</td>\n",
       "      <td>486818</td>\n",
       "      <td>47645</td>\n",
       "      <td>133128</td>\n",
       "      <td>71075</td>\n",
       "    </tr>\n",
       "    <tr>\n",
       "      <th>18</th>\n",
       "      <td>317308</td>\n",
       "      <td>0</td>\n",
       "      <td>26681</td>\n",
       "      <td>79813</td>\n",
       "      <td>0</td>\n",
       "    </tr>\n",
       "    <tr>\n",
       "      <th>19</th>\n",
       "      <td>0</td>\n",
       "      <td>1722396</td>\n",
       "      <td>188488</td>\n",
       "      <td>532310</td>\n",
       "      <td>444356</td>\n",
       "    </tr>\n",
       "    <tr>\n",
       "      <th>20</th>\n",
       "      <td>0</td>\n",
       "      <td>701249</td>\n",
       "      <td>68500</td>\n",
       "      <td>196645</td>\n",
       "      <td>84855</td>\n",
       "    </tr>\n",
       "    <tr>\n",
       "      <th>21</th>\n",
       "      <td>0</td>\n",
       "      <td>46736</td>\n",
       "      <td>4305</td>\n",
       "      <td>12783</td>\n",
       "      <td>5321</td>\n",
       "    </tr>\n",
       "  </tbody>\n",
       "</table>\n",
       "</div>"
      ],
      "text/plain": [
       "profile        New Parent  Partnered Parent  Retired Adult  Single Adult  \\\n",
       "department_id                                                              \n",
       "1                       0           1502578         148333        408827   \n",
       "2                       0             24102           2291          6884   \n",
       "3                       0            791765          76021        218384   \n",
       "4                       0           6442856         623025       1752420   \n",
       "5                       0             99495           9764         29354   \n",
       "6                       0            184106          17494         50219   \n",
       "7                       0           1709435         176427        498015   \n",
       "8                       0             66211           7024         17559   \n",
       "9                       0            598751          56303        158959   \n",
       "10                      0             22518           2164          6114   \n",
       "11                      0            297133          29838         82168   \n",
       "12                      0            507159          46556        127528   \n",
       "13                      0           1274250         122106        344651   \n",
       "14                      0            455357          44702        129875   \n",
       "15                      0            738344          68668        196170   \n",
       "16                      0           3651874         353749        995613   \n",
       "17                      0            486818          47645        133128   \n",
       "18                 317308                 0          26681         79813   \n",
       "19                      0           1722396         188488        532310   \n",
       "20                      0            701249          68500        196645   \n",
       "21                      0             46736           4305         12783   \n",
       "\n",
       "profile        Single Parent  \n",
       "department_id                 \n",
       "1                     175005  \n",
       "2                       3014  \n",
       "3                      86258  \n",
       "4                     660990  \n",
       "5                      15083  \n",
       "6                      17434  \n",
       "7                     304246  \n",
       "8                       6922  \n",
       "9                      52614  \n",
       "10                      3777  \n",
       "11                     38433  \n",
       "12                     27684  \n",
       "13                    134362  \n",
       "14                     73099  \n",
       "15                     64876  \n",
       "16                    397511  \n",
       "17                     71075  \n",
       "18                         0  \n",
       "19                    444356  \n",
       "20                     84855  \n",
       "21                      5321  "
      ]
     },
     "execution_count": 43,
     "metadata": {},
     "output_type": "execute_result"
    }
   ],
   "source": [
    "# checking the prof by dep crosstab\n",
    "prof_by_dep"
   ]
  },
  {
   "cell_type": "code",
   "execution_count": 44,
   "id": "c82d2ad3",
   "metadata": {},
   "outputs": [
    {
     "data": {
      "image/png": "[encoded data removed]",
      "text/plain": [
       "<Figure size 640x480 with 1 Axes>"
      ]
     },
     "metadata": {},
     "output_type": "display_data"
    }
   ],
   "source": [
    "# visualizing the relationship between department and profile\n",
    "prof_by_dep_bar = prof_by_dep.plot.bar(rot = 0, color = ['navy', 'mediumslateblue', 'lightsteelblue', 'blue', 'royalblue'])"
   ]
  },
  {
   "cell_type": "code",
   "execution_count": 45,
   "id": "b872ebdf",
   "metadata": {},
   "outputs": [],
   "source": [
    "# exporting the profiles by department bar graph\n",
    "prof_by_dep_bar.figure.savefig(os.path.join(path, '04 Analysis', 'Visualizations', 'profiles_by_department.png'))"
   ]
  },
  {
   "cell_type": "markdown",
   "id": "37777549",
   "metadata": {},
   "source": [
    "8.3 Comparing Regional Profiles by Department"
   ]
  },
  {
   "cell_type": "code",
   "execution_count": 46,
   "id": "d0a1b953",
   "metadata": {},
   "outputs": [],
   "source": [
    "# creating region 1 df\n",
    "df_reg_1 = df_main.loc[df_main['region'] == 1]"
   ]
  },
  {
   "cell_type": "code",
   "execution_count": 47,
   "id": "12ecf3ef",
   "metadata": {},
   "outputs": [
    {
     "data": {
      "text/plain": [
       "1.0    5722736\n",
       "Name: region, dtype: int64"
      ]
     },
     "execution_count": 47,
     "metadata": {},
     "output_type": "execute_result"
    }
   ],
   "source": [
    "# checking region 1 df\n",
    "df_reg_1['region'].value_counts(dropna = False)"
   ]
  },
  {
   "cell_type": "code",
   "execution_count": 48,
   "id": "2a7578f5",
   "metadata": {},
   "outputs": [],
   "source": [
    "# creating region 2 df\n",
    "df_reg_2 = df_main.loc[df_main['region'] == 2]"
   ]
  },
  {
   "cell_type": "code",
   "execution_count": 49,
   "id": "d1be66d7",
   "metadata": {},
   "outputs": [
    {
     "data": {
      "text/plain": [
       "2.0    7597325\n",
       "Name: region, dtype: int64"
      ]
     },
     "execution_count": 49,
     "metadata": {},
     "output_type": "execute_result"
    }
   ],
   "source": [
    "# checking region 2 df\n",
    "df_reg_2['region'].value_counts(dropna = False)"
   ]
  },
  {
   "cell_type": "code",
   "execution_count": 50,
   "id": "f55e21b0",
   "metadata": {},
   "outputs": [],
   "source": [
    "# creating region 3 df\n",
    "df_reg_3 = df_main.loc[df_main['region'] == 3]"
   ]
  },
  {
   "cell_type": "code",
   "execution_count": 51,
   "id": "19069c9c",
   "metadata": {},
   "outputs": [
    {
     "data": {
      "text/plain": [
       "3.0    10791885\n",
       "Name: region, dtype: int64"
      ]
     },
     "execution_count": 51,
     "metadata": {},
     "output_type": "execute_result"
    }
   ],
   "source": [
    "# checking region 3 df\n",
    "df_reg_3['region'].value_counts(dropna = False)"
   ]
  },
  {
   "cell_type": "code",
   "execution_count": 52,
   "id": "7bb4c45d",
   "metadata": {},
   "outputs": [],
   "source": [
    "# creating region 4 df\n",
    "df_reg_4 = df_main.loc[df_main['region'] == 4]"
   ]
  },
  {
   "cell_type": "code",
   "execution_count": 53,
   "id": "22b55cd8",
   "metadata": {},
   "outputs": [
    {
     "data": {
      "text/plain": [
       "4.0    8292913\n",
       "Name: region, dtype: int64"
      ]
     },
     "execution_count": 53,
     "metadata": {},
     "output_type": "execute_result"
    }
   ],
   "source": [
    "# checking region 4 df\n",
    "df_reg_4['region'].value_counts(dropna = False)"
   ]
  },
  {
   "cell_type": "markdown",
   "id": "1f4ac883",
   "metadata": {},
   "source": [
    "Creating cross tabs"
   ]
  },
  {
   "cell_type": "code",
   "execution_count": 54,
   "id": "cbe812a5",
   "metadata": {},
   "outputs": [],
   "source": [
    "# crosstab for region 1\n",
    "reg_1_cross = pd.crosstab(df_reg_1['department_id'], df_reg_1['profile'])"
   ]
  },
  {
   "cell_type": "code",
   "execution_count": 55,
   "id": "4111b95a",
   "metadata": {},
   "outputs": [],
   "source": [
    "# crosstab for region 2\n",
    "reg_2_cross = pd.crosstab(df_reg_2['department_id'], df_reg_2['profile'])"
   ]
  },
  {
   "cell_type": "code",
   "execution_count": 56,
   "id": "c02afb2f",
   "metadata": {},
   "outputs": [],
   "source": [
    "# crosstab for region 3\n",
    "reg_3_cross = pd.crosstab(df_reg_3['department_id'], df_reg_3['profile'])"
   ]
  },
  {
   "cell_type": "code",
   "execution_count": 57,
   "id": "8862f601",
   "metadata": {},
   "outputs": [],
   "source": [
    "# crosstab for region 4\n",
    "reg_4_cross = pd.crosstab(df_reg_4['department_id'], df_reg_4['profile'])"
   ]
  },
  {
   "cell_type": "markdown",
   "id": "ca933de3",
   "metadata": {},
   "source": [
    "Creating visualizations"
   ]
  },
  {
   "cell_type": "code",
   "execution_count": 58,
   "id": "a741cd24",
   "metadata": {},
   "outputs": [
    {
     "data": {
      "image/png": "[encoded data removed]",
      "text/plain": [
       "<Figure size 640x480 with 1 Axes>"
      ]
     },
     "metadata": {},
     "output_type": "display_data"
    }
   ],
   "source": [
    "# bar graph of the region 1 profiles be department\n",
    "reg_1_prof_dep_bar = reg_1_cross.plot.bar(rot = 0, color = ['navy', 'mediumslateblue', 'lightsteelblue', 'blue', 'royalblue'])"
   ]
  },
  {
   "cell_type": "code",
   "execution_count": 59,
   "id": "8065213b",
   "metadata": {},
   "outputs": [
    {
     "data": {
      "image/png": "[encoded data removed]",
      "text/plain": [
       "<Figure size 640x480 with 1 Axes>"
      ]
     },
     "metadata": {},
     "output_type": "display_data"
    }
   ],
   "source": [
    "# bar graph of the region 2 profiles be department\n",
    "reg_2_prof_dep_bar = reg_2_cross.plot.bar(rot = 0, color = ['navy', 'mediumslateblue', 'lightsteelblue', 'blue', 'royalblue'])"
   ]
  },
  {
   "cell_type": "code",
   "execution_count": 60,
   "id": "ee70c45f",
   "metadata": {},
   "outputs": [
    {
     "data": {
      "image/png": "[encoded data removed]",
      "text/plain": [
       "<Figure size 640x480 with 1 Axes>"
      ]
     },
     "metadata": {},
     "output_type": "display_data"
    }
   ],
   "source": [
    "# bar graph of the region 3 profiles be department\n",
    "reg_3_prof_dep_bar = reg_3_cross.plot.bar(rot = 0, color = ['navy', 'mediumslateblue', 'lightsteelblue', 'blue', 'royalblue'])"
   ]
  },
  {
   "cell_type": "code",
   "execution_count": 61,
   "id": "59bc4e7d",
   "metadata": {},
   "outputs": [
    {
     "data": {
      "image/png": "[encoded data removed]",
      "text/plain": [
       "<Figure size 640x480 with 1 Axes>"
      ]
     },
     "metadata": {},
     "output_type": "display_data"
    }
   ],
   "source": [
    "# bar graph of the region 4 profiles be department\n",
    "reg_4_prof_dep_bar = reg_4_cross.plot.bar(rot = 0, color = ['navy', 'mediumslateblue', 'lightsteelblue', 'blue', 'royalblue'])"
   ]
  },
  {
   "cell_type": "code",
   "execution_count": 62,
   "id": "e627b298",
   "metadata": {},
   "outputs": [],
   "source": [
    "# exporting the region 1 bar chart\n",
    "reg_1_prof_dep_bar.figure.savefig(os.path.join(path, '04 Analysis', 'Visualizations', 'region_1_profiles_by_department.png'))"
   ]
  },
  {
   "cell_type": "code",
   "execution_count": 63,
   "id": "0b710035",
   "metadata": {},
   "outputs": [],
   "source": [
    "# exporting the region 2 bar chart\n",
    "reg_2_prof_dep_bar.figure.savefig(os.path.join(path, '04 Analysis', 'Visualizations', 'region_2_profiles_by_department.png'))"
   ]
  },
  {
   "cell_type": "code",
   "execution_count": 64,
   "id": "0857fb70",
   "metadata": {},
   "outputs": [],
   "source": [
    "# exporting the region 3 bar chart\n",
    "reg_3_prof_dep_bar.figure.savefig(os.path.join(path, '04 Analysis', 'Visualizations', 'region_3_profiles_by_department.png'))"
   ]
  },
  {
   "cell_type": "code",
   "execution_count": 65,
   "id": "329764ca",
   "metadata": {},
   "outputs": [],
   "source": [
    "# exporting the region 4 bar chart\n",
    "reg_4_prof_dep_bar.figure.savefig(os.path.join(path, '04 Analysis', 'Visualizations', 'region_4_profiles_by_department.png'))"
   ]
  },
  {
   "cell_type": "markdown",
   "id": "2df4b0cd",
   "metadata": {},
   "source": [
    "# 9. Exporting Dataframe"
   ]
  },
  {
   "cell_type": "code",
   "execution_count": 66,
   "id": "f5883394",
   "metadata": {},
   "outputs": [],
   "source": [
    "df_main.to_pickle(os.path.join(path, 'Prepared Data', 'orders_products_customers_merged_final.pkl'))"
   ]
  },
  {
   "cell_type": "code",
   "execution_count": 67,
   "id": "d714952d",
   "metadata": {},
   "outputs": [
    {
     "data": {
      "text/plain": [
       "Mid-range product     21860860\n",
       "Low-range product     10126321\n",
       "High-range product      417678\n",
       "Name: price_range_loc, dtype: int64"
      ]
     },
     "execution_count": 67,
     "metadata": {},
     "output_type": "execute_result"
    }
   ],
   "source": [
    "df_main['price_range_loc'].value_counts()"
   ]
  }
 ],
 "metadata": {
  "kernelspec": {
   "display_name": "Python 3 (ipykernel)",
   "language": "python",
   "name": "python3"
  },
  "language_info": {
   "codemirror_mode": {
    "name": "ipython",
    "version": 3
   },
   "file_extension": ".py",
   "mimetype": "text/x-python",
   "name": "python",
   "nbconvert_exporter": "python",
   "pygments_lexer": "ipython3",
   "version": "3.10.9"
  }
 },
 "nbformat": 4,
 "nbformat_minor": 5
}
